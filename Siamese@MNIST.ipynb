{
  "nbformat": 4,
  "nbformat_minor": 0,
  "metadata": {
    "colab": {
      "name": "00_siamese_MNIST.ipynb",
      "provenance": [],
      "collapsed_sections": [],
      "include_colab_link": true
    },
    "kernelspec": {
      "name": "python3",
      "display_name": "Python 3"
    },
    "accelerator": "GPU"
  },
  "cells": [
    {
      "cell_type": "markdown",
      "metadata": {
        "id": "view-in-github",
        "colab_type": "text"
      },
      "source": [
        "<a href=\"https://colab.research.google.com/github/babymlin/face_recognition/blob/main/Siamese%40MNIST.ipynb\" target=\"_parent\"><img src=\"https://colab.research.google.com/assets/colab-badge.svg\" alt=\"Open In Colab\"/></a>"
      ]
    },
    {
      "cell_type": "code",
      "metadata": {
        "id": "hlv7TphrFs2z"
      },
      "source": [
        "import numpy as np\n",
        "import matplotlib.pyplot as plt\n",
        "\n",
        "import random\n",
        "from tensorflow.keras.datasets import mnist\n",
        "from tensorflow.keras.models import Model\n",
        "from tensorflow.keras.layers import Input, Flatten, Dense, Dropout, Lambda\n",
        "from tensorflow.keras.optimizers import RMSprop, Adam\n",
        "from tensorflow.keras import backend as K\n",
        "from tensorflow.keras.utils import plot_model\n",
        "\n",
        "# from keras.datasets import mnist\n",
        "# from keras.models import Model\n",
        "# from keras.layers import Input, Flatten, Dense, Dropout, Lambda\n",
        "# from keras.optimizers import RMSprop, Adam\n",
        "# from keras import backend as K\n",
        "# from keras.utils import plot_model\n",
        "\n",
        "\n",
        "num_classes = 10\n",
        "epochs = 20\n",
        "\n",
        "\n",
        "def euclidean_distance(vects):\n",
        "    x, y = vects\n",
        "    sum_square = K.sum(K.square(x - y), axis=1, keepdims=True)\n",
        "    return K.sqrt(K.maximum(sum_square, K.epsilon()))\n",
        "\n",
        "\n",
        "def eucl_dist_output_shape(shapes):\n",
        "    shape1, shape2 = shapes\n",
        "    return (shape1[0], 1)\n",
        "\n",
        "\n",
        "def contrastive_loss(y_true, y_pred):\n",
        "    '''Contrastive loss from Hadsell-et-al.'06\n",
        "    http://yann.lecun.com/exdb/publis/pdf/hadsell-chopra-lecun-06.pdf\n",
        "    '''\n",
        "    margin = 1\n",
        "    square_pred = K.square(y_pred)\n",
        "    margin_square = K.square(K.maximum(margin - y_pred, 0))\n",
        "    return K.mean(y_true * square_pred + (1 - y_true) * margin_square)\n",
        "\n",
        "\n",
        "def create_pairs(x, digit_indices):\n",
        "    '''Positive and negative pair creation.\n",
        "    Alternates between positive and negative pairs.\n",
        "    '''\n",
        "    pairs = []\n",
        "    labels = []\n",
        "    n = min([len(digit_indices[d]) for d in range(num_classes)]) - 1\n",
        "    for d in range(num_classes):\n",
        "        for i in range(n):\n",
        "            # Positive\n",
        "            z1, z2 = digit_indices[d][i], digit_indices[d][i + 1]\n",
        "            pairs += [[x[z1], x[z2]]]\n",
        "            # Negative\n",
        "            inc = random.randrange(1, num_classes)\n",
        "            dn = (d + inc) % num_classes\n",
        "            z1, z2 = digit_indices[d][i], digit_indices[dn][i]\n",
        "            pairs += [[x[z1], x[z2]]]\n",
        "            \n",
        "            labels += [1, 0]\n",
        "    return np.array(pairs), np.array(labels)\n",
        "\n",
        "\n",
        "def create_base_network(input_shape):\n",
        "    '''Base network to be shared (eq. to feature extraction).\n",
        "    '''\n",
        "    input = Input(shape=input_shape)\n",
        "    x = Flatten()(input)\n",
        "    x = Dense(128, activation='relu')(x)\n",
        "    x = Dropout(0.1)(x)\n",
        "    x = Dense(128, activation='relu')(x)\n",
        "    x = Dropout(0.1)(x)\n",
        "    x = Dense(128, activation='relu')(x)\n",
        "    \n",
        "    return Model(input, x)\n",
        "\n",
        "\n",
        "def compute_accuracy(y_true, y_pred):\n",
        "    '''Compute classification accuracy with a fixed threshold on distances.\n",
        "    '''\n",
        "    pred = y_pred.ravel() < 0.5\n",
        "    return np.mean(pred == y_true)\n",
        "\n",
        "\n",
        "def accuracy(y_true, y_pred):\n",
        "    '''Compute classification accuracy with a fixed threshold on distances.\n",
        "    '''\n",
        "    return K.mean(K.equal(y_true, K.cast(y_pred < 0.5, y_true.dtype)))\n"
      ],
      "execution_count": 1,
      "outputs": []
    },
    {
      "cell_type": "code",
      "metadata": {
        "id": "Iiatc3RtGhxV",
        "colab": {
          "base_uri": "https://localhost:8080/"
        },
        "outputId": "8e4a8254-ad12-4c75-f11f-4d2a2fe4d2fa"
      },
      "source": [
        "# the data, split between train and test sets\n",
        "(x_train, y_train), (x_test, y_test) = mnist.load_data()\n",
        "x_train = x_train.astype('float32')\n",
        "x_test = x_test.astype('float32')\n",
        "x_train /= 255\n",
        "x_test /= 255\n",
        "input_shape = x_train.shape[1:]\n",
        "\n",
        "# create training+test positive and negative pairs\n",
        "digit_indices = [np.where(y_train == i)[0] for i in range(num_classes)]\n",
        "tr_pairs, tr_y = create_pairs(x_train, digit_indices)\n",
        "\n",
        "digit_indices = [np.where(y_test == i)[0] for i in range(num_classes)]\n",
        "te_pairs, te_y = create_pairs(x_test, digit_indices)\n",
        "tr_y = tr_y.astype('float32')\n",
        "te_y = te_y.astype('float32')"
      ],
      "execution_count": 2,
      "outputs": [
        {
          "output_type": "stream",
          "text": [
            "Downloading data from https://storage.googleapis.com/tensorflow/tf-keras-datasets/mnist.npz\n",
            "11493376/11490434 [==============================] - 0s 0us/step\n"
          ],
          "name": "stdout"
        }
      ]
    },
    {
      "cell_type": "code",
      "metadata": {
        "colab": {
          "base_uri": "https://localhost:8080/"
        },
        "id": "fKLqu4D2poUk",
        "outputId": "a9f9450a-7f9d-4c23-d8c2-94d34fe690c6"
      },
      "source": [
        "tr_pairs[0].shape, tr_y[0]"
      ],
      "execution_count": 3,
      "outputs": [
        {
          "output_type": "execute_result",
          "data": {
            "text/plain": [
              "((2, 28, 28), 1.0)"
            ]
          },
          "metadata": {
            "tags": []
          },
          "execution_count": 3
        }
      ]
    },
    {
      "cell_type": "code",
      "metadata": {
        "id": "vAkhB9lEGcNW"
      },
      "source": [
        "# network definition\n",
        "base_network = create_base_network(input_shape)\n",
        "\n",
        "input_a = Input(shape=input_shape)\n",
        "input_b = Input(shape=input_shape)\n",
        "\n",
        "# because we re-use the same instance `base_network`,\n",
        "# the weights of the network\n",
        "# will be shared across the two branches\n",
        "processed_a = base_network(input_a)\n",
        "processed_b = base_network(input_b)\n",
        "\n",
        "distance = Lambda(euclidean_distance,\n",
        "          output_shape=eucl_dist_output_shape)([processed_a, processed_b])\n",
        "# sum_square = K.sum(K.square(processed_a - processed_b), axis=1, keepdims=True)\n",
        "# distance = K.sqrt(K.maximum(sum_square, K.epsilon()))\n",
        "\n",
        "model = Model([input_a, input_b], distance)"
      ],
      "execution_count": 4,
      "outputs": []
    },
    {
      "cell_type": "code",
      "metadata": {
        "id": "mWw6RY4Nb2Ws",
        "colab": {
          "base_uri": "https://localhost:8080/"
        },
        "outputId": "bc6e832f-d348-46c4-e2e0-2002e7986dd0"
      },
      "source": [
        "model.summary()"
      ],
      "execution_count": 5,
      "outputs": [
        {
          "output_type": "stream",
          "text": [
            "Model: \"model_1\"\n",
            "__________________________________________________________________________________________________\n",
            "Layer (type)                    Output Shape         Param #     Connected to                     \n",
            "==================================================================================================\n",
            "input_2 (InputLayer)            [(None, 28, 28)]     0                                            \n",
            "__________________________________________________________________________________________________\n",
            "input_3 (InputLayer)            [(None, 28, 28)]     0                                            \n",
            "__________________________________________________________________________________________________\n",
            "model (Functional)              (None, 128)          133504      input_2[0][0]                    \n",
            "                                                                 input_3[0][0]                    \n",
            "__________________________________________________________________________________________________\n",
            "lambda (Lambda)                 (None, 1)            0           model[0][0]                      \n",
            "                                                                 model[1][0]                      \n",
            "==================================================================================================\n",
            "Total params: 133,504\n",
            "Trainable params: 133,504\n",
            "Non-trainable params: 0\n",
            "__________________________________________________________________________________________________\n"
          ],
          "name": "stdout"
        }
      ]
    },
    {
      "cell_type": "code",
      "metadata": {
        "id": "CcylAzbSKrCk",
        "colab": {
          "base_uri": "https://localhost:8080/",
          "height": 272
        },
        "outputId": "725af3a4-bd1e-4318-b9a1-a4ae96b33ebe"
      },
      "source": [
        "plot_model(model)"
      ],
      "execution_count": 6,
      "outputs": [
        {
          "output_type": "execute_result",
          "data": {
            "image/png": "[encoded data removed]",
            "text/plain": [
              "<IPython.core.display.Image object>"
            ]
          },
          "metadata": {
            "tags": []
          },
          "execution_count": 6
        }
      ]
    },
    {
      "cell_type": "code",
      "metadata": {
        "id": "MnKoTYYRKjfd",
        "colab": {
          "base_uri": "https://localhost:8080/",
          "height": 312
        },
        "outputId": "a268fa07-6fa2-4ea4-a88e-b6c5513fbe99"
      },
      "source": [
        "plot_model(model, show_shapes=True)"
      ],
      "execution_count": 7,
      "outputs": [
        {
          "output_type": "execute_result",
          "data": {
            "image/png": "[encoded data removed]",
            "text/plain": [
              "<IPython.core.display.Image object>"
            ]
          },
          "metadata": {
            "tags": []
          },
          "execution_count": 7
        }
      ]
    },
    {
      "cell_type": "code",
      "metadata": {
        "id": "Q-qcjpNuGPwh",
        "colab": {
          "base_uri": "https://localhost:8080/"
        },
        "outputId": "a00fdcb2-e229-4ade-bbb1-c60ebaaea174"
      },
      "source": [
        "# train\n",
        "model.compile(loss=contrastive_loss, \n",
        "              optimizer='adam', \n",
        "              metrics=['accuracy'])\n",
        "\n",
        "model.fit([tr_pairs[:, 0], tr_pairs[:, 1]], tr_y,\n",
        "          batch_size=128,\n",
        "          epochs=epochs,\n",
        "          validation_data=([te_pairs[:, 0], te_pairs[:, 1]], te_y))"
      ],
      "execution_count": 8,
      "outputs": [
        {
          "output_type": "stream",
          "text": [
            "Epoch 1/20\n",
            "847/847 [==============================] - 7s 4ms/step - loss: 0.1046 - accuracy: 0.1289 - val_loss: 0.0449 - val_accuracy: 0.0476\n",
            "Epoch 2/20\n",
            "847/847 [==============================] - 3s 3ms/step - loss: 0.0434 - accuracy: 0.0440 - val_loss: 0.0307 - val_accuracy: 0.0333\n",
            "Epoch 3/20\n",
            "847/847 [==============================] - 3s 3ms/step - loss: 0.0298 - accuracy: 0.0308 - val_loss: 0.0267 - val_accuracy: 0.0304\n",
            "Epoch 4/20\n",
            "847/847 [==============================] - 3s 3ms/step - loss: 0.0245 - accuracy: 0.0260 - val_loss: 0.0261 - val_accuracy: 0.0302\n",
            "Epoch 5/20\n",
            "847/847 [==============================] - 3s 3ms/step - loss: 0.0207 - accuracy: 0.0222 - val_loss: 0.0248 - val_accuracy: 0.0283\n",
            "Epoch 6/20\n",
            "847/847 [==============================] - 3s 3ms/step - loss: 0.0183 - accuracy: 0.0197 - val_loss: 0.0240 - val_accuracy: 0.0282\n",
            "Epoch 7/20\n",
            "847/847 [==============================] - 3s 3ms/step - loss: 0.0165 - accuracy: 0.0179 - val_loss: 0.0251 - val_accuracy: 0.0299\n",
            "Epoch 8/20\n",
            "847/847 [==============================] - 3s 3ms/step - loss: 0.0153 - accuracy: 0.0163 - val_loss: 0.0237 - val_accuracy: 0.0282\n",
            "Epoch 9/20\n",
            "847/847 [==============================] - 3s 3ms/step - loss: 0.0139 - accuracy: 0.0150 - val_loss: 0.0259 - val_accuracy: 0.0305\n",
            "Epoch 10/20\n",
            "847/847 [==============================] - 3s 4ms/step - loss: 0.0138 - accuracy: 0.0148 - val_loss: 0.0252 - val_accuracy: 0.0290\n",
            "Epoch 11/20\n",
            "847/847 [==============================] - 3s 4ms/step - loss: 0.0122 - accuracy: 0.0128 - val_loss: 0.0234 - val_accuracy: 0.0267\n",
            "Epoch 12/20\n",
            "847/847 [==============================] - 3s 4ms/step - loss: 0.0118 - accuracy: 0.0127 - val_loss: 0.0244 - val_accuracy: 0.0288\n",
            "Epoch 13/20\n",
            "847/847 [==============================] - 3s 3ms/step - loss: 0.0111 - accuracy: 0.0119 - val_loss: 0.0231 - val_accuracy: 0.0273\n",
            "Epoch 14/20\n",
            "847/847 [==============================] - 3s 3ms/step - loss: 0.0110 - accuracy: 0.0117 - val_loss: 0.0250 - val_accuracy: 0.0282\n",
            "Epoch 15/20\n",
            "847/847 [==============================] - 3s 3ms/step - loss: 0.0104 - accuracy: 0.0110 - val_loss: 0.0245 - val_accuracy: 0.0270\n",
            "Epoch 16/20\n",
            "847/847 [==============================] - 3s 3ms/step - loss: 0.0100 - accuracy: 0.0108 - val_loss: 0.0232 - val_accuracy: 0.0268\n",
            "Epoch 17/20\n",
            "847/847 [==============================] - 3s 3ms/step - loss: 0.0097 - accuracy: 0.0102 - val_loss: 0.0224 - val_accuracy: 0.0251\n",
            "Epoch 18/20\n",
            "847/847 [==============================] - 3s 3ms/step - loss: 0.0093 - accuracy: 0.0097 - val_loss: 0.0238 - val_accuracy: 0.0263\n",
            "Epoch 19/20\n",
            "847/847 [==============================] - 3s 3ms/step - loss: 0.0089 - accuracy: 0.0094 - val_loss: 0.0222 - val_accuracy: 0.0246\n",
            "Epoch 20/20\n",
            "847/847 [==============================] - 3s 3ms/step - loss: 0.0088 - accuracy: 0.0094 - val_loss: 0.0265 - val_accuracy: 0.0297\n"
          ],
          "name": "stdout"
        },
        {
          "output_type": "execute_result",
          "data": {
            "text/plain": [
              "<tensorflow.python.keras.callbacks.History at 0x7fdc4863e810>"
            ]
          },
          "metadata": {
            "tags": []
          },
          "execution_count": 8
        }
      ]
    },
    {
      "cell_type": "code",
      "metadata": {
        "id": "A-p3UbZdGJF1",
        "colab": {
          "base_uri": "https://localhost:8080/"
        },
        "outputId": "b79adc56-df7b-4152-a425-9527ddb6ae0b"
      },
      "source": [
        "# compute final accuracy on training and test sets\n",
        "y_pred = model.predict([tr_pairs[:, 0], tr_pairs[:, 1]])\n",
        "tr_acc = compute_accuracy(tr_y, y_pred)\n",
        "y_pred = model.predict([te_pairs[:, 0], te_pairs[:, 1]])\n",
        "te_acc = compute_accuracy(te_y, y_pred)\n",
        "\n",
        "print('* Accuracy on training set: %0.2f%%' % (100 * tr_acc))\n",
        "print('* Accuracy on test set: %0.2f%%' % (100 * te_acc))"
      ],
      "execution_count": 9,
      "outputs": [
        {
          "output_type": "stream",
          "text": [
            "* Accuracy on training set: 99.44%\n",
            "* Accuracy on test set: 97.03%\n"
          ],
          "name": "stdout"
        }
      ]
    },
    {
      "cell_type": "code",
      "metadata": {
        "id": "L0Ew7QxRbDp8"
      },
      "source": [
        ""
      ],
      "execution_count": 9,
      "outputs": []
    },
    {
      "cell_type": "code",
      "metadata": {
        "id": "H6jUIEl7ugjx",
        "colab": {
          "base_uri": "https://localhost:8080/",
          "height": 549
        },
        "outputId": "a76e5e29-0099-436e-f264-d25e3ea19a11"
      },
      "source": [
        "idx = np.random.randint(0, te_pairs.shape[0])\n",
        "print('idx:', idx)\n",
        "print('Same ?: ', te_y[idx])\n",
        "plt.imshow(te_pairs[idx, 0])\n",
        "plt.show()\n",
        "plt.imshow(te_pairs[idx, 1])\n",
        "plt.show()"
      ],
      "execution_count": 14,
      "outputs": [
        {
          "output_type": "stream",
          "text": [
            "idx: 9284\n",
            "Same ?:  1.0\n"
          ],
          "name": "stdout"
        },
        {
          "output_type": "display_data",
          "data": {
            "image/png": "[encoded data removed]",
            "text/plain": [
              "<Figure size 432x288 with 1 Axes>"
            ]
          },
          "metadata": {
            "tags": [],
            "needs_background": "light"
          }
        },
        {
          "output_type": "display_data",
          "data": {
            "image/png": "[encoded data removed]",
            "text/plain": [
              "<Figure size 432x288 with 1 Axes>"
            ]
          },
          "metadata": {
            "tags": [],
            "needs_background": "light"
          }
        }
      ]
    },
    {
      "cell_type": "code",
      "metadata": {
        "id": "5Xc61TAbvZnz",
        "colab": {
          "base_uri": "https://localhost:8080/"
        },
        "outputId": "afe10e8f-3805-4b44-b521-9c72c2aeedd0"
      },
      "source": [
        "model.predict([te_pairs[idx:idx+1, 0], te_pairs[idx:idx+1, 1]])"
      ],
      "execution_count": 15,
      "outputs": [
        {
          "output_type": "execute_result",
          "data": {
            "text/plain": [
              "array([[0.35864258]], dtype=float32)"
            ]
          },
          "metadata": {
            "tags": []
          },
          "execution_count": 15
        }
      ]
    }
  ]
}